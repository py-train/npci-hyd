{
 "cells": [
  {
   "cell_type": "code",
   "execution_count": 1,
   "id": "85cc4e52-9a6f-418b-836c-d7a328b0f199",
   "metadata": {},
   "outputs": [
    {
     "data": {
      "text/plain": [
       "'ABCD'"
      ]
     },
     "execution_count": 1,
     "metadata": {},
     "output_type": "execute_result"
    }
   ],
   "source": [
    "name = 'abcd'\n",
    "name = name.upper()"
   ]
  },
  {
   "cell_type": "code",
   "execution_count": 2,
   "id": "7a5bf907-3d18-4e19-9cf7-5c1e393ba1a5",
   "metadata": {},
   "outputs": [
    {
     "name": "stdout",
     "output_type": "stream",
     "text": [
      "4337297744\n",
      "4337297776\n"
     ]
    }
   ],
   "source": [
    "i = 10\n",
    "print(id(i))\n",
    "i = i + 1\n",
    "print(id(i))"
   ]
  },
  {
   "cell_type": "code",
   "execution_count": 3,
   "id": "580fe5e4-8af4-450a-885f-8f035d0504af",
   "metadata": {},
   "outputs": [
    {
     "data": {
      "text/plain": [
       "'/Users/ashishgulati/Train/npci/npci-hyd/morn'"
      ]
     },
     "execution_count": 3,
     "metadata": {},
     "output_type": "execute_result"
    }
   ],
   "source": [
    "%pwd"
   ]
  },
  {
   "cell_type": "code",
   "execution_count": 4,
   "id": "52476c5b-ddb5-434e-821d-fa857c116ffe",
   "metadata": {},
   "outputs": [
    {
     "name": "stdout",
     "output_type": "stream",
     "text": [
      "/Users/ashishgulati/Train/npci/npci-hyd/exercises/google-python-exercises/basic\n"
     ]
    }
   ],
   "source": [
    "%cd ../exercises/google-python-exercises/basic/"
   ]
  },
  {
   "cell_type": "code",
   "execution_count": 5,
   "id": "576177c3-1934-47b5-a2a0-92fe1b1e929f",
   "metadata": {},
   "outputs": [
    {
     "name": "stdout",
     "output_type": "stream",
     "text": [
      "alice.txt     \u001b[31mlist2.py\u001b[m\u001b[m*     small.txt     \u001b[31mstring1.py\u001b[m\u001b[m*   \u001b[31mwordcount.py\u001b[m\u001b[m*\n",
      "\u001b[31mlist1.py\u001b[m\u001b[m*     \u001b[31mmimic.py\u001b[m\u001b[m*     \u001b[34msolution\u001b[m\u001b[m/     \u001b[31mstring2.py\u001b[m\u001b[m*\n"
     ]
    }
   ],
   "source": [
    "%ls"
   ]
  },
  {
   "cell_type": "code",
   "execution_count": 6,
   "id": "81a52cfe-8365-46c3-a61f-762c3d87bf68",
   "metadata": {},
   "outputs": [],
   "source": [
    "import list1"
   ]
  },
  {
   "cell_type": "code",
   "execution_count": 7,
   "id": "8bf0ed3f-106b-44eb-ae97-512f1a8c2345",
   "metadata": {},
   "outputs": [
    {
     "name": "stdout",
     "output_type": "stream",
     "text": [
      "match_ends\n",
      "  X  got: None expected: 3\n",
      "  X  got: None expected: 2\n",
      "  X  got: None expected: 1\n",
      "\n",
      "front_x\n",
      "  X  got: None expected: ['xaa', 'xzz', 'axx', 'bbb', 'ccc']\n",
      "  X  got: None expected: ['xaa', 'xcc', 'aaa', 'bbb', 'ccc']\n",
      "  X  got: None expected: ['xanadu', 'xyz', 'aardvark', 'apple', 'mix']\n",
      "\n",
      "sort_last\n",
      "  X  got: None expected: [(2, 1), (3, 2), (1, 3)]\n",
      "  X  got: None expected: [(3, 1), (1, 2), (2, 3)]\n",
      "  X  got: None expected: [(2, 2), (1, 3), (3, 4, 5), (1, 7)]\n"
     ]
    }
   ],
   "source": [
    "list1.main()"
   ]
  },
  {
   "cell_type": "code",
   "execution_count": 8,
   "id": "978de819-b44f-4185-9e4f-f69cc60b4af7",
   "metadata": {},
   "outputs": [],
   "source": [
    "import random"
   ]
  },
  {
   "cell_type": "code",
   "execution_count": 16,
   "id": "2ccba1c4-4ba5-4e8c-a699-f1356aa2845b",
   "metadata": {},
   "outputs": [],
   "source": [
    "secret = random.randint(0,100)"
   ]
  },
  {
   "cell_type": "code",
   "execution_count": 20,
   "id": "78455d27-8175-40d3-a7c5-27cefb571812",
   "metadata": {},
   "outputs": [
    {
     "name": "stdin",
     "output_type": "stream",
     "text": [
      "Enter your guess 99\n"
     ]
    }
   ],
   "source": [
    "num = int(input('Enter your guess'))"
   ]
  },
  {
   "cell_type": "code",
   "execution_count": 18,
   "id": "44443e28-fb3f-4989-8b91-612678411901",
   "metadata": {},
   "outputs": [
    {
     "data": {
      "text/plain": [
       "False"
      ]
     },
     "execution_count": 18,
     "metadata": {},
     "output_type": "execute_result"
    }
   ],
   "source": [
    "num == secret"
   ]
  },
  {
   "cell_type": "code",
   "execution_count": 21,
   "id": "383eb89e-b6d3-4674-a4af-663dfc74d591",
   "metadata": {},
   "outputs": [
    {
     "data": {
      "text/plain": [
       "True"
      ]
     },
     "execution_count": 21,
     "metadata": {},
     "output_type": "execute_result"
    }
   ],
   "source": [
    "num > secret"
   ]
  },
  {
   "cell_type": "code",
   "execution_count": 22,
   "id": "30ee1916-d2fd-4ee2-954f-3775cc427084",
   "metadata": {},
   "outputs": [
    {
     "data": {
      "text/plain": [
       "3"
      ]
     },
     "execution_count": 22,
     "metadata": {},
     "output_type": "execute_result"
    }
   ],
   "source": [
    "secret"
   ]
  },
  {
   "cell_type": "code",
   "execution_count": 27,
   "id": "bd14e963-74f6-47be-be61-80366c3a9fa2",
   "metadata": {},
   "outputs": [
    {
     "name": "stdin",
     "output_type": "stream",
     "text": [
      "Enter your guess 1\n"
     ]
    },
    {
     "name": "stdout",
     "output_type": "stream",
     "text": [
      "Go higher\n"
     ]
    },
    {
     "name": "stdin",
     "output_type": "stream",
     "text": [
      "Enter your guess 1\n"
     ]
    },
    {
     "name": "stdout",
     "output_type": "stream",
     "text": [
      "Go higher\n"
     ]
    },
    {
     "name": "stdin",
     "output_type": "stream",
     "text": [
      "Enter your guess 1\n"
     ]
    },
    {
     "name": "stdout",
     "output_type": "stream",
     "text": [
      "Go higher\n"
     ]
    },
    {
     "name": "stdin",
     "output_type": "stream",
     "text": [
      "Enter your guess 1\n"
     ]
    },
    {
     "name": "stdout",
     "output_type": "stream",
     "text": [
      "Go higher\n"
     ]
    },
    {
     "name": "stdin",
     "output_type": "stream",
     "text": [
      "Enter your guess 1\n"
     ]
    },
    {
     "name": "stdout",
     "output_type": "stream",
     "text": [
      "Go higher\n"
     ]
    },
    {
     "name": "stdin",
     "output_type": "stream",
     "text": [
      "Enter your guess 1\n"
     ]
    },
    {
     "name": "stdout",
     "output_type": "stream",
     "text": [
      "Go higher\n"
     ]
    },
    {
     "name": "stdin",
     "output_type": "stream",
     "text": [
      "Enter your guess 1\n"
     ]
    },
    {
     "name": "stdout",
     "output_type": "stream",
     "text": [
      "Go higher\n"
     ]
    },
    {
     "name": "stdin",
     "output_type": "stream",
     "text": [
      "Enter your guess 1\n"
     ]
    },
    {
     "name": "stdout",
     "output_type": "stream",
     "text": [
      "Go higher\n"
     ]
    },
    {
     "name": "stdin",
     "output_type": "stream",
     "text": [
      "Enter your guess 1\n"
     ]
    },
    {
     "name": "stdout",
     "output_type": "stream",
     "text": [
      "Go higher\n"
     ]
    },
    {
     "name": "stdin",
     "output_type": "stream",
     "text": [
      "Enter your guess 1\n"
     ]
    },
    {
     "name": "stdout",
     "output_type": "stream",
     "text": [
      "Go higher\n",
      "Sorry, you couldn't guess in 10 turns The secret was 78\n"
     ]
    }
   ],
   "source": [
    "secret = random.randint(0,100)\n",
    "\n",
    "for i in range(10):\n",
    "    guess = int(input('Enter your guess'))\n",
    "    if guess < secret:\n",
    "        print('Go higher')\n",
    "    elif guess > secret:\n",
    "        print('Go lower')\n",
    "    elif guess == secret:\n",
    "        print('You guessed it in', i+1, 'turns!')\n",
    "        break\n",
    "else:\n",
    "    print(\"Sorry, you couldn't guess in\", i+1, 'turns', 'The secret was', secret)\n",
    "    \n",
    "# if i == 9:\n",
    "#     print(\"Sorry, you couldn't guess in\", i+1, 'turns', 'The secret was', secret)"
   ]
  },
  {
   "cell_type": "code",
   "execution_count": null,
   "id": "2d7de003-92bb-4712-aeb4-3e32a6bc8b27",
   "metadata": {},
   "outputs": [],
   "source": [
    "You guessed it in 3 turns!"
   ]
  },
  {
   "cell_type": "code",
   "execution_count": 25,
   "id": "c34848ad-33d8-41bb-96ce-016cc47f1eb0",
   "metadata": {},
   "outputs": [
    {
     "data": {
      "text/plain": [
       "9"
      ]
     },
     "execution_count": 25,
     "metadata": {},
     "output_type": "execute_result"
    }
   ],
   "source": [
    "i"
   ]
  },
  {
   "cell_type": "code",
   "execution_count": 1,
   "id": "791ef9ad-0c59-443a-9e0d-f63292582e8a",
   "metadata": {},
   "outputs": [],
   "source": [
    "import requests"
   ]
  },
  {
   "cell_type": "code",
   "execution_count": 30,
   "id": "6f91773f-2f2c-4063-accf-a6d39978ef53",
   "metadata": {},
   "outputs": [
    {
     "data": {
      "text/plain": [
       "<Response [200]>"
      ]
     },
     "execution_count": 30,
     "metadata": {},
     "output_type": "execute_result"
    }
   ],
   "source": [
    "r = requests.get('https://google.com')\n",
    "r"
   ]
  },
  {
   "cell_type": "code",
   "execution_count": 31,
   "id": "d79242de-5d14-4c92-884a-0c1b18d4f55a",
   "metadata": {},
   "outputs": [
    {
     "data": {
      "text/plain": [
       "{'Date': 'Mon, 17 Mar 2025 05:58:55 GMT', 'Expires': '-1', 'Cache-Control': 'private, max-age=0', 'Content-Type': 'text/html; charset=ISO-8859-1', 'Content-Security-Policy-Report-Only': \"object-src 'none';base-uri 'self';script-src 'nonce-UnvtkALHm8OxSY2Fm66FAg' 'strict-dynamic' 'report-sample' 'unsafe-eval' 'unsafe-inline' https: http:;report-uri https://csp.withgoogle.com/csp/gws/other-hp\", 'Accept-CH': 'Sec-CH-Prefers-Color-Scheme', 'P3P': 'CP=\"This is not a P3P policy! See g.co/p3phelp for more info.\"', 'Content-Encoding': 'gzip', 'Server': 'gws', 'X-XSS-Protection': '0', 'X-Frame-Options': 'SAMEORIGIN', 'Set-Cookie': 'AEC=AVcja2dB4-xp2L3pnhb9h50OpR1Z5w2TiVvXbpu0e3zeqHjtE-uGs8Zm-A; expires=Sat, 13-Sep-2025 05:58:55 GMT; path=/; domain=.google.com; Secure; HttpOnly; SameSite=lax, NID=522=UH14161dtIRbzJ-fX74yuJD1KctiOv2rklIuqIn5LRxNrhJf7aD-rxXrWm0lCwEg4i9TCkZcTbkvYEqYmRdwg9LGI9XnuBktk_bVGjXP8_P4SsJryyOAohI4579Wkp_gSHf5JMSW408kk3BNR5bR2K3FHliHHeolEZceu8GM1rTmHGKBvFnXaiBhQ4zGnAY-UmFHh9IO1NRn; expires=Tue, 16-Sep-2025 05:58:55 GMT; path=/; domain=.google.com; HttpOnly', 'Alt-Svc': 'h3=\":443\"; ma=2592000,h3-29=\":443\"; ma=2592000', 'Transfer-Encoding': 'chunked'}"
      ]
     },
     "execution_count": 31,
     "metadata": {},
     "output_type": "execute_result"
    }
   ],
   "source": [
    "r.headers"
   ]
  },
  {
   "cell_type": "code",
   "execution_count": 33,
   "id": "b165c885-cdb7-4882-a953-e12e09222beb",
   "metadata": {},
   "outputs": [
    {
     "data": {
      "text/plain": [
       "KeysView({'Date': 'Mon, 17 Mar 2025 05:58:55 GMT', 'Expires': '-1', 'Cache-Control': 'private, max-age=0', 'Content-Type': 'text/html; charset=ISO-8859-1', 'Content-Security-Policy-Report-Only': \"object-src 'none';base-uri 'self';script-src 'nonce-UnvtkALHm8OxSY2Fm66FAg' 'strict-dynamic' 'report-sample' 'unsafe-eval' 'unsafe-inline' https: http:;report-uri https://csp.withgoogle.com/csp/gws/other-hp\", 'Accept-CH': 'Sec-CH-Prefers-Color-Scheme', 'P3P': 'CP=\"This is not a P3P policy! See g.co/p3phelp for more info.\"', 'Content-Encoding': 'gzip', 'Server': 'gws', 'X-XSS-Protection': '0', 'X-Frame-Options': 'SAMEORIGIN', 'Set-Cookie': 'AEC=AVcja2dB4-xp2L3pnhb9h50OpR1Z5w2TiVvXbpu0e3zeqHjtE-uGs8Zm-A; expires=Sat, 13-Sep-2025 05:58:55 GMT; path=/; domain=.google.com; Secure; HttpOnly; SameSite=lax, NID=522=UH14161dtIRbzJ-fX74yuJD1KctiOv2rklIuqIn5LRxNrhJf7aD-rxXrWm0lCwEg4i9TCkZcTbkvYEqYmRdwg9LGI9XnuBktk_bVGjXP8_P4SsJryyOAohI4579Wkp_gSHf5JMSW408kk3BNR5bR2K3FHliHHeolEZceu8GM1rTmHGKBvFnXaiBhQ4zGnAY-UmFHh9IO1NRn; expires=Tue, 16-Sep-2025 05:58:55 GMT; path=/; domain=.google.com; HttpOnly', 'Alt-Svc': 'h3=\":443\"; ma=2592000,h3-29=\":443\"; ma=2592000', 'Transfer-Encoding': 'chunked'})"
      ]
     },
     "execution_count": 33,
     "metadata": {},
     "output_type": "execute_result"
    }
   ],
   "source": [
    "r.headers.keys()"
   ]
  },
  {
   "cell_type": "code",
   "execution_count": 34,
   "id": "7d553c93-e903-4544-b2c7-72127b384d32",
   "metadata": {},
   "outputs": [
    {
     "data": {
      "text/plain": [
       "'text/html; charset=ISO-8859-1'"
      ]
     },
     "execution_count": 34,
     "metadata": {},
     "output_type": "execute_result"
    }
   ],
   "source": [
    "r.headers['Content-Type']"
   ]
  },
  {
   "cell_type": "code",
   "execution_count": 35,
   "id": "aa64d8de-c59a-4587-8275-8f4e6413c5be",
   "metadata": {
    "scrolled": true
   },
   "outputs": [
    {
     "data": {
      "text/plain": [
       "b'<!doctype html><html itemscope=\"\" itemtype=\"http://schema.org/WebPage\" lang=\"en-IN\"><head><meta content=\"text/html; charset=UTF-8\" http-equiv=\"Content-Type\"><meta content=\"/images/branding/googleg/1x/googleg_standard_color_128dp.png\" itemprop=\"image\"><title>Google</title><script nonce=\"UnvtkALHm8OxSY2Fm66FAg\">(function(){var _g={kEI:\\'H7rXZ_WfOr7d5OUPmZqQSQ\\',kEXPI:\\'0,202791,3497453,705,435,538661,2872,2891,8348,64702,217969,142932,94242,125571,27507,42724,11106,5230648,8834896,76,1,3,5,3,2,8,23933867,4043709,25227441,66696,46754,26058,7147,1034,5929,65174,6751,23879,9139,3076,1523,328,6225,34310,29854,1342,5406,8301,8206,878,1,2,2411,4134,21305,33,3767,6,896,4372,17667,771,9896,10903,10441,8340,41,13639,1,6741,4106,352,4100,8240,6540,4983,2,885,951,2146,4617,5773,4311,9173,1425,1743,6355,4605,3050,2,1667,10170,678,957,3261,459,2531,35,3420,2503,361,893,55,1027,1,828,221,1,4311,75,1478,2,3,1724,570,2251,116,1226,716,2,305,870,1965,1891,1842,354,658,609,3143,809,42,3,4,1,408,6,91,8,1339,1940,7,1143,1316,188,1573,343,320,323,2494,338,1137,2428,1,302,202,699,339,205,4,4,1154,814,80,538,284,23,235,1213,4,287,2401,75,143,63,591,306,88,617,6,1,741,585,1533,411,340,264,755,242,106,6,598,425,86,2,504,439,573,122,541,3,2,345,463,770,630,1394,13,6,98,2,1,2,2,2,3,896,206,134,115,89,441,359,91,317,77,253,618,12,495,61,12,745,176,25,11,278,1,1324,2,157,25,391,294,101,252,341,73,106,54,36,165,79,484,4,2,832,696,24,2,282,12,559,20,130,150,164,623,158,3,9,1085,331,212,75,3,162,277,2,1,2,2,2,544,4,130,108,31,630,95,394,4,1,2,2,2,29,309,403,477,222,515,143,151,84,108,2,2,21,350,156,1312,3,399,502,228,358,138,485,370,203,147,2,65,560,2172,4,20923531,404692,18,3223,1317,8,4177,1596,199,843,5,5803,847,6010701,2526782\\',kBL:\\'8rGJ\\',kOPI:89978449};(function(){var a;((a=window.google)==null?0:a.stvsc)?google.kEI=_g.kEI:window.google=_g;}).call(this);})();(function(){google.sn=\\'webhp\\';google.kHL=\\'en-IN\\';})();(function(){\\nvar g=this||self;function k(){return window.google&&window.google.kOPI||null};var l,m=[];function n(a){for(var b;a&&(!a.getAttribute||!(b=a.getAttribute(\"eid\")));)a=a.parentNode;return b||l}function p(a){for(var b=null;a&&(!a.getAttribute||!(b=a.getAttribute(\"leid\")));)a=a.parentNode;return b}function q(a){/^http:/i.test(a)&&window.location.protocol===\"https:\"&&(google.ml&&google.ml(Error(\"a\"),!1,{src:a,glmm:1}),a=\"\");return a}\\nfunction r(a,b,d,c,h){var e=\"\";b.search(\"&ei=\")===-1&&(e=\"&ei=\"+n(c),b.search(\"&lei=\")===-1&&(c=p(c))&&(e+=\"&lei=\"+c));var f=b.search(\"&cshid=\")===-1&&a!==\"slh\";c=\"&zx=\"+Date.now().toString();g._cshid&&f&&(c+=\"&cshid=\"+g._cshid);(d=d())&&(c+=\"&opi=\"+d);return\"/\"+(h||\"gen_204\")+\"?atyp=i&ct=\"+String(a)+\"&cad=\"+(b+e+c)};l=google.kEI;google.getEI=n;google.getLEI=p;google.ml=function(){return null};google.log=function(a,b,d,c,h,e){e=e===void 0?k:e;d||(d=r(a,b,e,c,h));if(d=q(d)){a=new Image;var f=m.length;m[f]=a;a.onerror=a.onload=a.onabort=function(){delete m[f]};a.src=d}};google.logUrl=function(a,b){b=b===void 0?k:b;return r(\"\",a,b)};}).call(this);(function(){google.y={};google.sy=[];var d;(d=google).x||(d.x=function(a,b){if(a)var c=a.id;else{do c=Math.random();while(google.y[c])}google.y[c]=[a,b];return!1});var e;(e=google).sx||(e.sx=function(a){google.sy.push(a)});google.lm=[];var f;(f=google).plm||(f.plm=function(a){google.lm.push.apply(google.lm,a)});google.lq=[];var g;(g=google).load||(g.load=function(a,b,c){google.lq.push([[a],b,c])});var h;(h=google).loadAll||(h.loadAll=function(a,b){google.lq.push([a,b])});google.bx=!1;var k;(k=google).lx||(k.lx=function(){});var l=[],m;(m=google).fce||(m.fce=function(a,b,c,n){l.push([a,b,c,n])});google.qce=l;}).call(this);google.f={};(function(){\\ndocument.documentElement.addEventListener(\"submit\",function(b){var a;if(a=b.target){var c=a.getAttribute(\"data-submitfalse\");a=c===\"1\"||c===\"q\"&&!a.elements.q.value?!0:!1}else a=!1;a&&(b.preventDefault(),b.stopPropagation())},!0);document.documentElement.addEventListener(\"click\",function(b){var a;a:{for(a=b.target;a&&a!==document.documentElement;a=a.parentElement)if(a.tagName===\"A\"){a=a.getAttribute(\"data-nohref\")===\"1\";break a}a=!1}a&&b.preventDefault()},!0);}).call(this);</script><style>#gbar,#guser{font-size:13px;padding-top:1px !important;}#gbar{height:22px}#guser{padding-bottom:7px !important;text-align:right}.gbh,.gbd{border-top:1px solid #c9d7f1;font-size:1px}.gbh{height:0;position:absolute;top:24px;width:100%}@media all{.gb1{height:22px;margin-right:.5em;vertical-align:top}#gbar{float:left}}a.gb1,a.gb4{text-decoration:underline !important}a.gb1,a.gb4{color:#00c !important}.gbi .gb4{color:#dd8e27 !important}.gbf .gb4{color:#900 !important}\\n</style><style>body,td,a,p,.h{font-family:sans-serif}body{margin:0;overflow-y:scroll}#gog{padding:3px 8px 0}td{line-height:.8em}.gac_m td{line-height:17px}form{margin-bottom:20px}.h{color:#1967d2}em{font-weight:bold;font-style:normal}.lst{height:25px;width:496px}.gsfi,.lst{font:18px sans-serif}.gsfs{font:17px sans-serif}.ds{display:inline-box;display:inline-block;margin:3px 0 4px;margin-left:4px}input{font-family:inherit}body{background:#fff;color:#000}a{color:#681da8;text-decoration:none}a:hover,a:active{text-decoration:underline}.fl a{color:#1967d2}a:visited{color:#681da8}.sblc{padding-top:5px}.sblc a{display:block;margin:2px 0;margin-left:13px;font-size:11px}.lsbb{background:#f8f9fa;border:solid 1px;border-color:#dadce0 #70757a #70757a #dadce0;height:30px}.lsbb{display:block}#WqQANb a{display:inline-block;margin:0 12px}.lsb{background:url(/images/nav_logo229.png) 0 -261px repeat-x;color:#000;border:none;cursor:pointer;height:30px;margin:0;outline:0;font:15px sans-serif;vertical-align:top}.lsb:active{background:#dadce0}.lst:focus{outline:none}</style><script nonce=\"UnvtkALHm8OxSY2Fm66FAg\">(function(){window.google.erd={jsr:1,bv:2183,de:true,dpf:\\'EdfLao1JVRkDFC_PPbp0QlD3hYbTWVrrmjx2PNqiBTw\\'};\\nvar g=this||self;var k,l=(k=g.mei)!=null?k:1,m,p=(m=g.diel)!=null?m:0,q,r=(q=g.sdo)!=null?q:!0,t=0,u,w=google.erd,x=w.jsr;google.ml=function(a,b,d,n,e){e=e===void 0?2:e;b&&(u=a&&a.message);d===void 0&&(d={});d.cad=\"ple_\"+google.ple+\".aple_\"+google.aple;if(google.dl)return google.dl(a,e,d,!0),null;b=d;if(x<0){window.console&&console.error(a,b);if(x===-2)throw a;b=!1}else b=!a||!a.message||a.message===\"Error loading script\"||t>=l&&!n?!1:!0;if(!b)return null;t++;d=d||{};b=encodeURIComponent;var c=\"/gen_204?atyp=i&ei=\"+b(google.kEI);google.kEXPI&&(c+=\"&jexpid=\"+b(google.kEXPI));c+=\"&srcpg=\"+b(google.sn)+\"&jsr=\"+b(w.jsr)+\\n\"&bver=\"+b(w.bv);w.dpf&&(c+=\"&dpf=\"+b(w.dpf));var f=a.lineNumber;f!==void 0&&(c+=\"&line=\"+f);var h=a.fileName;h&&(h.indexOf(\"-extension:/\")>0&&(e=3),c+=\"&script=\"+b(h),f&&h===window.location.href&&(f=document.documentElement.outerHTML.split(\"\\\\n\")[f],c+=\"&cad=\"+b(f?f.substring(0,300):\"No script found.\")));google.ple&&google.ple===1&&(e=2);c+=\"&jsel=\"+e;for(var v in d)c+=\"&\",c+=b(v),c+=\"=\",c+=b(d[v]);c=c+\"&emsg=\"+b(a.name+\": \"+a.message);c=c+\"&jsst=\"+b(a.stack||\"N/A\");c.length>=12288&&(c=c.substr(0,12288));a=c;n||google.log(0,\"\",a);return a};window.onerror=function(a,b,d,n,e){u!==a&&(a=e instanceof Error?e:Error(a),d===void 0||\"lineNumber\"in a||(a.lineNumber=d),b===void 0||\"fileName\"in a||(a.fileName=b),google.ml(a,!1,void 0,!1,a.name===\"SyntaxError\"||a.message.substring(0,11)===\"SyntaxError\"||a.message.indexOf(\"Script error\")!==-1?3:p));u=null;r&&t>=l&&(window.onerror=null)};})();</script></head><body bgcolor=\"#fff\"><script nonce=\"UnvtkALHm8OxSY2Fm66FAg\">(function(){var src=\\'/images/nav_logo229.png\\';var iesg=false;document.body.onload = function(){window.n && window.n();if (document.images){new Image().src=src;}\\nif (!iesg){document.f&&document.f.q.focus();document.gbqf&&document.gbqf.q.focus();}\\n}\\n})();</script><div id=\"mngb\"><div id=gbar><nobr><b class=gb1>Search</b> <a class=gb1 href=\"https://www.google.com/imghp?hl=en&tab=wi\">Images</a> <a class=gb1 href=\"https://maps.google.co.in/maps?hl=en&tab=wl\">Maps</a> <a class=gb1 href=\"https://play.google.com/?hl=en&tab=w8\">Play</a> <a class=gb1 href=\"https://www.youtube.com/?tab=w1\">YouTube</a> <a class=gb1 href=\"https://news.google.com/?tab=wn\">News</a> <a class=gb1 href=\"https://mail.google.com/mail/?tab=wm\">Gmail</a> <a class=gb1 href=\"https://drive.google.com/?tab=wo\">Drive</a> <a class=gb1 style=\"text-decoration:none\" href=\"https://www.google.co.in/intl/en/about/products?tab=wh\"><u>More</u> &raquo;</a></nobr></div><div id=guser width=100%><nobr><span id=gbn class=gbi></span><span id=gbf class=gbf></span><span id=gbe></span><a href=\"http://www.google.co.in/history/optout?hl=en\" class=gb4>Web History</a> | <a  href=\"/preferences?hl=en\" class=gb4>Settings</a> | <a target=_top id=gb_70 href=\"https://accounts.google.com/ServiceLogin?hl=en&passive=true&continue=https://www.google.com/&ec=GAZAAQ\" class=gb4>Sign in</a></nobr></div><div class=gbh style=left:0></div><div class=gbh style=right:0></div></div><center><br clear=\"all\" id=\"lgpd\"><div id=\"XjhHGf\"><img alt=\"Google\" height=\"92\" src=\"/images/branding/googlelogo/1x/googlelogo_white_background_color_272x92dp.png\" style=\"padding:28px 0 14px\" width=\"272\" id=\"hplogo\"><br><br></div><form action=\"/search\" name=\"f\"><table cellpadding=\"0\" cellspacing=\"0\"><tr valign=\"top\"><td width=\"25%\">&nbsp;</td><td align=\"center\" nowrap=\"\"><input name=\"ie\" value=\"ISO-8859-1\" type=\"hidden\"><input value=\"en-IN\" name=\"hl\" type=\"hidden\"><input name=\"source\" type=\"hidden\" value=\"hp\"><input name=\"biw\" type=\"hidden\"><input name=\"bih\" type=\"hidden\"><div class=\"ds\" style=\"height:32px;margin:4px 0\"><input class=\"lst\" style=\"margin:0;padding:5px 8px 0 6px;vertical-align:top;color:#000\" autocomplete=\"off\" value=\"\" title=\"Google Search\" maxlength=\"2048\" name=\"q\" size=\"57\"></div><br style=\"line-height:0\"><span class=\"ds\"><span class=\"lsbb\"><input class=\"lsb\" value=\"Google Search\" name=\"btnG\" type=\"submit\"></span></span><span class=\"ds\"><span class=\"lsbb\"><input class=\"lsb\" id=\"tsuid_H7rXZ_WfOr7d5OUPmZqQSQ_1\" value=\"I\\'m Feeling Lucky\" name=\"btnI\" type=\"submit\"><script nonce=\"UnvtkALHm8OxSY2Fm66FAg\">(function(){var id=\\'tsuid_H7rXZ_WfOr7d5OUPmZqQSQ_1\\';document.getElementById(id).onclick = function(){if (this.form.q.value){this.checked = 1;if (this.form.iflsig)this.form.iflsig.disabled = false;}\\nelse top.location=\\'/doodles/\\';};})();</script><input value=\"ACkRmUkAAAAAZ9fILy2aXjUpRNbCW_4_xz0b7-nkHv0n\" name=\"iflsig\" type=\"hidden\"></span></span></td><td class=\"fl sblc\" align=\"left\" nowrap=\"\" width=\"25%\"><a href=\"/advanced_search?hl=en-IN&amp;authuser=0\">Advanced search</a></td></tr></table><input id=\"gbv\" name=\"gbv\" type=\"hidden\" value=\"1\"><script nonce=\"UnvtkALHm8OxSY2Fm66FAg\">(function(){var a,b=\"1\";if(document&&document.getElementById)if(typeof XMLHttpRequest!=\"undefined\")b=\"2\";else if(typeof ActiveXObject!=\"undefined\"){var c,d,e=[\"MSXML2.XMLHTTP.6.0\",\"MSXML2.XMLHTTP.3.0\",\"MSXML2.XMLHTTP\",\"Microsoft.XMLHTTP\"];for(c=0;d=e[c++];)try{new ActiveXObject(d),b=\"2\"}catch(h){}}a=b;if(a==\"2\"&&location.search.indexOf(\"&gbv=2\")==-1){var f=google.gbvu,g=document.getElementById(\"gbv\");g&&(g.value=a);f&&window.setTimeout(function(){location.href=f},0)};}).call(this);</script></form><div style=\"font-size:83%;min-height:3.5em\"><br><div id=\"gws-output-pages-elements-homepage_additional_languages__als\"><style>#gws-output-pages-elements-homepage_additional_languages__als{font-size:small;margin-bottom:24px}#SIvCob{color:#474747;display:inline-block;line-height:28px;}#SIvCob a{padding:0 3px;}.H6sW5{display:inline-block;margin:0 2px;white-space:nowrap}.z4hgWe{display:inline-block;margin:0 2px}</style><div id=\"SIvCob\">Google offered in:  <a href=\"https://www.google.com/setprefs?sig=0_8LiXvF2Thfksde_ONO8KfwAOHnw%3D&amp;hl=hi&amp;source=homepage&amp;sa=X&amp;ved=0ahUKEwi1q6jet5CMAxW-LrkGHRkNJAkQ2ZgBCAY\">&#2361;&#2367;&#2344;&#2381;&#2342;&#2368;</a>    <a href=\"https://www.google.com/setprefs?sig=0_8LiXvF2Thfksde_ONO8KfwAOHnw%3D&amp;hl=bn&amp;source=homepage&amp;sa=X&amp;ved=0ahUKEwi1q6jet5CMAxW-LrkGHRkNJAkQ2ZgBCAc\">&#2476;&#2494;&#2434;&#2482;&#2494;</a>    <a href=\"https://www.google.com/setprefs?sig=0_8LiXvF2Thfksde_ONO8KfwAOHnw%3D&amp;hl=te&amp;source=homepage&amp;sa=X&amp;ved=0ahUKEwi1q6jet5CMAxW-LrkGHRkNJAkQ2ZgBCAg\">&#3108;&#3142;&#3122;&#3137;&#3095;&#3137;</a>    <a href=\"https://www.google.com/setprefs?sig=0_8LiXvF2Thfksde_ONO8KfwAOHnw%3D&amp;hl=mr&amp;source=homepage&amp;sa=X&amp;ved=0ahUKEwi1q6jet5CMAxW-LrkGHRkNJAkQ2ZgBCAk\">&#2350;&#2352;&#2366;&#2336;&#2368;</a>    <a href=\"https://www.google.com/setprefs?sig=0_8LiXvF2Thfksde_ONO8KfwAOHnw%3D&amp;hl=ta&amp;source=homepage&amp;sa=X&amp;ved=0ahUKEwi1q6jet5CMAxW-LrkGHRkNJAkQ2ZgBCAo\">&#2980;&#2990;&#3007;&#2996;&#3021;</a>    <a href=\"https://www.google.com/setprefs?sig=0_8LiXvF2Thfksde_ONO8KfwAOHnw%3D&amp;hl=gu&amp;source=homepage&amp;sa=X&amp;ved=0ahUKEwi1q6jet5CMAxW-LrkGHRkNJAkQ2ZgBCAs\">&#2711;&#2753;&#2716;&#2736;&#2750;&#2724;&#2752;</a>    <a href=\"https://www.google.com/setprefs?sig=0_8LiXvF2Thfksde_ONO8KfwAOHnw%3D&amp;hl=kn&amp;source=homepage&amp;sa=X&amp;ved=0ahUKEwi1q6jet5CMAxW-LrkGHRkNJAkQ2ZgBCAw\">&#3221;&#3240;&#3277;&#3240;&#3233;</a>    <a href=\"https://www.google.com/setprefs?sig=0_8LiXvF2Thfksde_ONO8KfwAOHnw%3D&amp;hl=ml&amp;source=homepage&amp;sa=X&amp;ved=0ahUKEwi1q6jet5CMAxW-LrkGHRkNJAkQ2ZgBCA0\">&#3374;&#3378;&#3375;&#3390;&#3379;&#3330;</a>    <a href=\"https://www.google.com/setprefs?sig=0_8LiXvF2Thfksde_ONO8KfwAOHnw%3D&amp;hl=pa&amp;source=homepage&amp;sa=X&amp;ved=0ahUKEwi1q6jet5CMAxW-LrkGHRkNJAkQ2ZgBCA4\">&#2602;&#2672;&#2588;&#2622;&#2604;&#2624;</a>  </div></div></div><span id=\"footer\"><div style=\"font-size:10pt\"><div style=\"margin:19px auto;text-align:center\" id=\"WqQANb\"><a href=\"/intl/en/ads/\">Advertising</a><a href=\"http://www.google.co.in/services/\">Business Solutions</a><a href=\"/intl/en/about.html\">About Google</a><a href=\"https://www.google.com/setprefdomain?prefdom=IN&amp;prev=https://www.google.co.in/&amp;sig=K_Nq2kwr3LlEGBoCYiDle4rEtaJT8%3D\">Google.co.in</a></div></div><p style=\"font-size:8pt;color:#70757a\">&copy; 2025 - <a href=\"/intl/en/policies/privacy/\">Privacy</a> - <a href=\"/intl/en/policies/terms/\">Terms</a></p></span></center><script nonce=\"UnvtkALHm8OxSY2Fm66FAg\">(function(){window.google.cdo={height:757,width:1440};(function(){var a=window.innerWidth,b=window.innerHeight;if(!a||!b){var c=window.document,d=c.compatMode==\"CSS1Compat\"?c.documentElement:c.body;a=d.clientWidth;b=d.clientHeight}if(a&&b&&(a!=google.cdo.width||b!=google.cdo.height)){var e=google,f=e.log,g=\"/client_204?&atyp=i&biw=\"+a+\"&bih=\"+b+\"&ei=\"+google.kEI,h=\"\",k=window.google&&window.google.kOPI||null;k&&(h+=\"&opi=\"+k);f.call(e,\"\",\"\",g+h)};}).call(this);})();</script>   <script nonce=\"UnvtkALHm8OxSY2Fm66FAg\">(function(){google.xjs={basecomb:\\'/xjs/_/js/k\\\\x3dxjs.hp.en.sCXdW3LcOLw.es5.O/ck\\\\x3dxjs.hp.LVZ6XI0cKKU.L.X.O/am\\\\x3dBAAAAAAQAAAAAAAAAAAAAAAAAAAAAAAAAAAAAAAEAQAAAAAAAAAAAAcAADALwAEAAAEACBAAAAAAAAAAAAAAACABABAAAAgAAQBAfEcAQAAsAgCAFw/d\\\\x3d1/ed\\\\x3d1/dg\\\\x3d0/ujg\\\\x3d1/rs\\\\x3dACT90oHim6LjfPJ39OMVlmb_iL8r1V7O-w\\',basecss:\\'/xjs/_/ss/k\\\\x3dxjs.hp.LVZ6XI0cKKU.L.X.O/am\\\\x3dBAAAAAAQAAAAAAAAAAAAAAAAAAAAAAAAAAAAAAAAAQAAAAAAAAAAAAAAADADAAAAAAEACBAAAAAAAAAAAAAAACABABAAAAgAAQ/rs\\\\x3dACT90oFETFVMLyGArTAgnyjUrly39h7WVQ\\',basejs:\\'/xjs/_/js/k\\\\x3dxjs.hp.en.sCXdW3LcOLw.es5.O/am\\\\x3dAAAAAAAAAAAAAAAAAAAAAAAAAAAAAAAAAAAAAAAEAAAAAAAAAAAAAAcAAAAIwAEAAAAAAAAAAAAAAAAAAAAAAAAAAAAAAAAAAABAfEcAQAAsAgCAFw/dg\\\\x3d0/rs\\\\x3dACT90oHlPLvzJtVXIV0XlTFrTVdHeRKNew\\',excm:[]};})();</script>        <script nonce=\"UnvtkALHm8OxSY2Fm66FAg\">(function(){var u=\\'/xjs/_/js/k\\\\x3dxjs.hp.en.sCXdW3LcOLw.es5.O/am\\\\x3dAAAAAAAAAAAAAAAAAAAAAAAAAAAAAAAAAAAAAAAEAAAAAAAAAAAAAAcAAAAIwAEAAAAAAAAAAAAAAAAAAAAAAAAAAAAAAAAAAABAfEcAQAAsAgCAFw/d\\\\x3d1/ed\\\\x3d1/dg\\\\x3d3/rs\\\\x3dACT90oHlPLvzJtVXIV0XlTFrTVdHeRKNew/m\\\\x3dsb_he,d\\';var st=1;var amd=1000;var mmd=0;var pod=true;var pop=false;var fp=\\'\\';\\nvar e=this||self;function f(){var a,b,d;if(b=a=(b=window.google)==null?void 0:(d=b.ia)==null?void 0:d.r.B2Jtyd)b=a.m,b=b===1||b===5;return b&&a.cbfd!=null&&a.cbvi!=null?a:void 0};function g(){var a=[u];if(!google.dp){for(var b=0;b<a.length;b++){var d=a[b],c=document.createElement(\"link\");c.as=\"script\";c.href=d;c.rel=\"preload\";document.body.appendChild(c)}google.dp=!0}};google.ps===void 0&&(google.ps=[]);function h(){var a=u,b=function(){};google.lx=google.stvsc?b:function(){k(a);google.lx=b};google.bx||google.lx()}function l(a,b){b&&(a.src=b);fp&&(a.fetchPriority=fp);var d=a.onload;a.onload=function(c){d&&d(c);google.ps=google.ps.filter(function(E){return a!==E})};google.ps.push(a);document.body.appendChild(a)}google.as=l;function k(a){google.timers&&google.timers.load&&google.tick&&google.tick(\"load\",\"xjsls\");var b=document.createElement(\"script\");b.onerror=function(){google.ple=1};b.onload=function(){google.ple=0};google.xjsus=void 0;l(b,a);google.aple=-1;google.dp=!0};function m(a){var b=a.getAttribute(\"jscontroller\");return(b===\"UBXHI\"||b===\"R3fhkb\"||b===\"TSZEqd\")&&a.hasAttribute(\"data-src\")}function n(){for(var a=document.getElementsByTagName(\"img\"),b=0,d=a.length;b<d;b++){var c=a[b];if(c.hasAttribute(\"data-lzy_\")&&Number(c.getAttribute(\"data-atf\"))&1&&!m(c))return!0}return!1}for(var p=document.getElementsByTagName(\"img\"),q=0,r=p.length;q<r;++q){var t=p[q];Number(t.getAttribute(\"data-atf\"))&1&&m(t)&&(t.src=t.getAttribute(\"data-src\"))};var w,x,y,z,A,B,C,D;function F(){google.xjsu=u;e._F_jsUrl=u;A=function(){h()};w=!1;x=(st===1||st===3)&&!!google.caft&&!n();y=f();z=(st===2||st===3)&&!!y&&!n();B=pod;D=(C=pop)&&document.prerendering}function G(){w||x||z||D||(A(),w=!0)}\\nsetTimeout(function(){google&&google.tick&&google.timers&&google.timers.load&&google.tick(\"load\",\"xjspls\");F();if(x||z||D){if(x){var a=function(){x=!1;G()};google.caft(a);window.setTimeout(a,amd)}z&&(a=function(){z=!1;G()},y.cbvi.push(a),window.setTimeout(a,mmd));D&&document.addEventListener(\"prerenderingchange\",function(){D=!1;G()},{once:!0});if(B||C)w||g()}else A()},0);})();window._ = window._ || {};window._DumpException = _._DumpException = function(e){throw e;};window._s = window._s || {};_s._DumpException = _._DumpException;window._qs = window._qs || {};_qs._DumpException = _._DumpException;(function(){var t=[4,16384,0,0,0,0,0,17104896,1,2097152,7766016,46930464,3008,2097220,4194305,0,0,1152,8388609,268435520,18300,569473,96256];window._F_toggles = window._xjs_toggles = t;})();window._F_installCss = window._F_installCss || function(css){};(function(){google.jl={bfl:0,dw:false,ine:false,ubm:false,uwp:true,vs:false};})();(function(){var pmc=\\'{\\\\x22d\\\\x22:{},\\\\x22sb_he\\\\x22:{\\\\x22agen\\\\x22:false,\\\\x22cgen\\\\x22:false,\\\\x22client\\\\x22:\\\\x22heirloom-hp\\\\x22,\\\\x22dh\\\\x22:true,\\\\x22ds\\\\x22:\\\\x22\\\\x22,\\\\x22fl\\\\x22:true,\\\\x22host\\\\x22:\\\\x22google.com\\\\x22,\\\\x22jsonp\\\\x22:true,\\\\x22msgs\\\\x22:{\\\\x22cibl\\\\x22:\\\\x22Clear Search\\\\x22,\\\\x22dym\\\\x22:\\\\x22Did you mean:\\\\x22,\\\\x22lcky\\\\x22:\\\\x22I\\\\\\\\u0026#39;m Feeling Lucky\\\\x22,\\\\x22lml\\\\x22:\\\\x22Learn more\\\\x22,\\\\x22psrc\\\\x22:\\\\x22This search was removed from your \\\\\\\\u003Ca href\\\\x3d\\\\\\\\\\\\x22/history\\\\\\\\\\\\x22\\\\\\\\u003EWeb History\\\\\\\\u003C/a\\\\\\\\u003E\\\\x22,\\\\x22psrl\\\\x22:\\\\x22Remove\\\\x22,\\\\x22sbit\\\\x22:\\\\x22Search by image\\\\x22,\\\\x22srch\\\\x22:\\\\x22Google Search\\\\x22},\\\\x22ovr\\\\x22:{},\\\\x22pq\\\\x22:\\\\x22\\\\x22,\\\\x22rfs\\\\x22:[],\\\\x22stok\\\\x22:\\\\x229TvWNpiwsbLxOgfYRsnleWrlaxM\\\\x22}}\\';google.pmc=JSON.parse(pmc);})();</script>       </body></html>'"
      ]
     },
     "execution_count": 35,
     "metadata": {},
     "output_type": "execute_result"
    }
   ],
   "source": [
    "r.content"
   ]
  },
  {
   "cell_type": "code",
   "execution_count": 36,
   "id": "f000c8fe-4e3c-4e6b-8e0f-843e171f007e",
   "metadata": {},
   "outputs": [
    {
     "data": {
      "text/plain": [
       "bytes"
      ]
     },
     "execution_count": 36,
     "metadata": {},
     "output_type": "execute_result"
    }
   ],
   "source": [
    "type(r.content)"
   ]
  },
  {
   "cell_type": "code",
   "execution_count": 37,
   "id": "d231db52-9ad3-43fa-84f5-5c939b47fa37",
   "metadata": {},
   "outputs": [],
   "source": [
    "baseurl = 'https://jsonplaceholder.typicode.com'"
   ]
  },
  {
   "cell_type": "code",
   "execution_count": 41,
   "id": "83624ab2-24d3-451d-af21-1c2620e199a2",
   "metadata": {},
   "outputs": [
    {
     "data": {
      "text/plain": [
       "<Response [200]>"
      ]
     },
     "execution_count": 41,
     "metadata": {},
     "output_type": "execute_result"
    }
   ],
   "source": [
    "r = requests.get(baseurl + '/users')\n",
    "r"
   ]
  },
  {
   "cell_type": "code",
   "execution_count": 42,
   "id": "07fd2eb1-aa4d-4f08-91e9-01b48673bde1",
   "metadata": {},
   "outputs": [
    {
     "data": {
      "text/plain": [
       "'application/json; charset=utf-8'"
      ]
     },
     "execution_count": 42,
     "metadata": {},
     "output_type": "execute_result"
    }
   ],
   "source": [
    "r.headers['Content-Type']"
   ]
  },
  {
   "cell_type": "code",
   "execution_count": 43,
   "id": "e736213e-88f3-46fc-8055-1f35befeac67",
   "metadata": {
    "scrolled": true
   },
   "outputs": [
    {
     "data": {
      "text/plain": [
       "b'[\\n  {\\n    \"id\": 1,\\n    \"name\": \"Leanne Graham\",\\n    \"username\": \"Bret\",\\n    \"email\": \"Sincere@april.biz\",\\n    \"address\": {\\n      \"street\": \"Kulas Light\",\\n      \"suite\": \"Apt. 556\",\\n      \"city\": \"Gwenborough\",\\n      \"zipcode\": \"92998-3874\",\\n      \"geo\": {\\n        \"lat\": \"-37.3159\",\\n        \"lng\": \"81.1496\"\\n      }\\n    },\\n    \"phone\": \"1-770-736-8031 x56442\",\\n    \"website\": \"hildegard.org\",\\n    \"company\": {\\n      \"name\": \"Romaguera-Crona\",\\n      \"catchPhrase\": \"Multi-layered client-server neural-net\",\\n      \"bs\": \"harness real-time e-markets\"\\n    }\\n  },\\n  {\\n    \"id\": 2,\\n    \"name\": \"Ervin Howell\",\\n    \"username\": \"Antonette\",\\n    \"email\": \"Shanna@melissa.tv\",\\n    \"address\": {\\n      \"street\": \"Victor Plains\",\\n      \"suite\": \"Suite 879\",\\n      \"city\": \"Wisokyburgh\",\\n      \"zipcode\": \"90566-7771\",\\n      \"geo\": {\\n        \"lat\": \"-43.9509\",\\n        \"lng\": \"-34.4618\"\\n      }\\n    },\\n    \"phone\": \"010-692-6593 x09125\",\\n    \"website\": \"anastasia.net\",\\n    \"company\": {\\n      \"name\": \"Deckow-Crist\",\\n      \"catchPhrase\": \"Proactive didactic contingency\",\\n      \"bs\": \"synergize scalable supply-chains\"\\n    }\\n  },\\n  {\\n    \"id\": 3,\\n    \"name\": \"Clementine Bauch\",\\n    \"username\": \"Samantha\",\\n    \"email\": \"Nathan@yesenia.net\",\\n    \"address\": {\\n      \"street\": \"Douglas Extension\",\\n      \"suite\": \"Suite 847\",\\n      \"city\": \"McKenziehaven\",\\n      \"zipcode\": \"59590-4157\",\\n      \"geo\": {\\n        \"lat\": \"-68.6102\",\\n        \"lng\": \"-47.0653\"\\n      }\\n    },\\n    \"phone\": \"1-463-123-4447\",\\n    \"website\": \"ramiro.info\",\\n    \"company\": {\\n      \"name\": \"Romaguera-Jacobson\",\\n      \"catchPhrase\": \"Face to face bifurcated interface\",\\n      \"bs\": \"e-enable strategic applications\"\\n    }\\n  },\\n  {\\n    \"id\": 4,\\n    \"name\": \"Patricia Lebsack\",\\n    \"username\": \"Karianne\",\\n    \"email\": \"Julianne.OConner@kory.org\",\\n    \"address\": {\\n      \"street\": \"Hoeger Mall\",\\n      \"suite\": \"Apt. 692\",\\n      \"city\": \"South Elvis\",\\n      \"zipcode\": \"53919-4257\",\\n      \"geo\": {\\n        \"lat\": \"29.4572\",\\n        \"lng\": \"-164.2990\"\\n      }\\n    },\\n    \"phone\": \"493-170-9623 x156\",\\n    \"website\": \"kale.biz\",\\n    \"company\": {\\n      \"name\": \"Robel-Corkery\",\\n      \"catchPhrase\": \"Multi-tiered zero tolerance productivity\",\\n      \"bs\": \"transition cutting-edge web services\"\\n    }\\n  },\\n  {\\n    \"id\": 5,\\n    \"name\": \"Chelsey Dietrich\",\\n    \"username\": \"Kamren\",\\n    \"email\": \"Lucio_Hettinger@annie.ca\",\\n    \"address\": {\\n      \"street\": \"Skiles Walks\",\\n      \"suite\": \"Suite 351\",\\n      \"city\": \"Roscoeview\",\\n      \"zipcode\": \"33263\",\\n      \"geo\": {\\n        \"lat\": \"-31.8129\",\\n        \"lng\": \"62.5342\"\\n      }\\n    },\\n    \"phone\": \"(254)954-1289\",\\n    \"website\": \"demarco.info\",\\n    \"company\": {\\n      \"name\": \"Keebler LLC\",\\n      \"catchPhrase\": \"User-centric fault-tolerant solution\",\\n      \"bs\": \"revolutionize end-to-end systems\"\\n    }\\n  },\\n  {\\n    \"id\": 6,\\n    \"name\": \"Mrs. Dennis Schulist\",\\n    \"username\": \"Leopoldo_Corkery\",\\n    \"email\": \"Karley_Dach@jasper.info\",\\n    \"address\": {\\n      \"street\": \"Norberto Crossing\",\\n      \"suite\": \"Apt. 950\",\\n      \"city\": \"South Christy\",\\n      \"zipcode\": \"23505-1337\",\\n      \"geo\": {\\n        \"lat\": \"-71.4197\",\\n        \"lng\": \"71.7478\"\\n      }\\n    },\\n    \"phone\": \"1-477-935-8478 x6430\",\\n    \"website\": \"ola.org\",\\n    \"company\": {\\n      \"name\": \"Considine-Lockman\",\\n      \"catchPhrase\": \"Synchronised bottom-line interface\",\\n      \"bs\": \"e-enable innovative applications\"\\n    }\\n  },\\n  {\\n    \"id\": 7,\\n    \"name\": \"Kurtis Weissnat\",\\n    \"username\": \"Elwyn.Skiles\",\\n    \"email\": \"Telly.Hoeger@billy.biz\",\\n    \"address\": {\\n      \"street\": \"Rex Trail\",\\n      \"suite\": \"Suite 280\",\\n      \"city\": \"Howemouth\",\\n      \"zipcode\": \"58804-1099\",\\n      \"geo\": {\\n        \"lat\": \"24.8918\",\\n        \"lng\": \"21.8984\"\\n      }\\n    },\\n    \"phone\": \"210.067.6132\",\\n    \"website\": \"elvis.io\",\\n    \"company\": {\\n      \"name\": \"Johns Group\",\\n      \"catchPhrase\": \"Configurable multimedia task-force\",\\n      \"bs\": \"generate enterprise e-tailers\"\\n    }\\n  },\\n  {\\n    \"id\": 8,\\n    \"name\": \"Nicholas Runolfsdottir V\",\\n    \"username\": \"Maxime_Nienow\",\\n    \"email\": \"Sherwood@rosamond.me\",\\n    \"address\": {\\n      \"street\": \"Ellsworth Summit\",\\n      \"suite\": \"Suite 729\",\\n      \"city\": \"Aliyaview\",\\n      \"zipcode\": \"45169\",\\n      \"geo\": {\\n        \"lat\": \"-14.3990\",\\n        \"lng\": \"-120.7677\"\\n      }\\n    },\\n    \"phone\": \"586.493.6943 x140\",\\n    \"website\": \"jacynthe.com\",\\n    \"company\": {\\n      \"name\": \"Abernathy Group\",\\n      \"catchPhrase\": \"Implemented secondary concept\",\\n      \"bs\": \"e-enable extensible e-tailers\"\\n    }\\n  },\\n  {\\n    \"id\": 9,\\n    \"name\": \"Glenna Reichert\",\\n    \"username\": \"Delphine\",\\n    \"email\": \"Chaim_McDermott@dana.io\",\\n    \"address\": {\\n      \"street\": \"Dayna Park\",\\n      \"suite\": \"Suite 449\",\\n      \"city\": \"Bartholomebury\",\\n      \"zipcode\": \"76495-3109\",\\n      \"geo\": {\\n        \"lat\": \"24.6463\",\\n        \"lng\": \"-168.8889\"\\n      }\\n    },\\n    \"phone\": \"(775)976-6794 x41206\",\\n    \"website\": \"conrad.com\",\\n    \"company\": {\\n      \"name\": \"Yost and Sons\",\\n      \"catchPhrase\": \"Switchable contextually-based project\",\\n      \"bs\": \"aggregate real-time technologies\"\\n    }\\n  },\\n  {\\n    \"id\": 10,\\n    \"name\": \"Clementina DuBuque\",\\n    \"username\": \"Moriah.Stanton\",\\n    \"email\": \"Rey.Padberg@karina.biz\",\\n    \"address\": {\\n      \"street\": \"Kattie Turnpike\",\\n      \"suite\": \"Suite 198\",\\n      \"city\": \"Lebsackbury\",\\n      \"zipcode\": \"31428-2261\",\\n      \"geo\": {\\n        \"lat\": \"-38.2386\",\\n        \"lng\": \"57.2232\"\\n      }\\n    },\\n    \"phone\": \"024-648-3804\",\\n    \"website\": \"ambrose.net\",\\n    \"company\": {\\n      \"name\": \"Hoeger LLC\",\\n      \"catchPhrase\": \"Centralized empowering task-force\",\\n      \"bs\": \"target end-to-end models\"\\n    }\\n  }\\n]'"
      ]
     },
     "execution_count": 43,
     "metadata": {},
     "output_type": "execute_result"
    }
   ],
   "source": [
    "r.content"
   ]
  },
  {
   "cell_type": "code",
   "execution_count": 44,
   "id": "1313aff9-b836-4784-97f8-05dbeeef72cb",
   "metadata": {},
   "outputs": [],
   "source": [
    "import json"
   ]
  },
  {
   "cell_type": "code",
   "execution_count": null,
   "id": "8e5583b0-fbde-43c8-81e4-10da286d45fe",
   "metadata": {},
   "outputs": [],
   "source": [
    "f = open('myfile.json')\n",
    "json.load(f)"
   ]
  },
  {
   "cell_type": "code",
   "execution_count": 46,
   "id": "9199e4c7-fd53-4cd4-8125-e8beb0de37f8",
   "metadata": {
    "scrolled": true
   },
   "outputs": [
    {
     "data": {
      "text/plain": [
       "[{'id': 1,\n",
       "  'name': 'Leanne Graham',\n",
       "  'username': 'Bret',\n",
       "  'email': 'Sincere@april.biz',\n",
       "  'address': {'street': 'Kulas Light',\n",
       "   'suite': 'Apt. 556',\n",
       "   'city': 'Gwenborough',\n",
       "   'zipcode': '92998-3874',\n",
       "   'geo': {'lat': '-37.3159', 'lng': '81.1496'}},\n",
       "  'phone': '1-770-736-8031 x56442',\n",
       "  'website': 'hildegard.org',\n",
       "  'company': {'name': 'Romaguera-Crona',\n",
       "   'catchPhrase': 'Multi-layered client-server neural-net',\n",
       "   'bs': 'harness real-time e-markets'}},\n",
       " {'id': 2,\n",
       "  'name': 'Ervin Howell',\n",
       "  'username': 'Antonette',\n",
       "  'email': 'Shanna@melissa.tv',\n",
       "  'address': {'street': 'Victor Plains',\n",
       "   'suite': 'Suite 879',\n",
       "   'city': 'Wisokyburgh',\n",
       "   'zipcode': '90566-7771',\n",
       "   'geo': {'lat': '-43.9509', 'lng': '-34.4618'}},\n",
       "  'phone': '010-692-6593 x09125',\n",
       "  'website': 'anastasia.net',\n",
       "  'company': {'name': 'Deckow-Crist',\n",
       "   'catchPhrase': 'Proactive didactic contingency',\n",
       "   'bs': 'synergize scalable supply-chains'}},\n",
       " {'id': 3,\n",
       "  'name': 'Clementine Bauch',\n",
       "  'username': 'Samantha',\n",
       "  'email': 'Nathan@yesenia.net',\n",
       "  'address': {'street': 'Douglas Extension',\n",
       "   'suite': 'Suite 847',\n",
       "   'city': 'McKenziehaven',\n",
       "   'zipcode': '59590-4157',\n",
       "   'geo': {'lat': '-68.6102', 'lng': '-47.0653'}},\n",
       "  'phone': '1-463-123-4447',\n",
       "  'website': 'ramiro.info',\n",
       "  'company': {'name': 'Romaguera-Jacobson',\n",
       "   'catchPhrase': 'Face to face bifurcated interface',\n",
       "   'bs': 'e-enable strategic applications'}},\n",
       " {'id': 4,\n",
       "  'name': 'Patricia Lebsack',\n",
       "  'username': 'Karianne',\n",
       "  'email': 'Julianne.OConner@kory.org',\n",
       "  'address': {'street': 'Hoeger Mall',\n",
       "   'suite': 'Apt. 692',\n",
       "   'city': 'South Elvis',\n",
       "   'zipcode': '53919-4257',\n",
       "   'geo': {'lat': '29.4572', 'lng': '-164.2990'}},\n",
       "  'phone': '493-170-9623 x156',\n",
       "  'website': 'kale.biz',\n",
       "  'company': {'name': 'Robel-Corkery',\n",
       "   'catchPhrase': 'Multi-tiered zero tolerance productivity',\n",
       "   'bs': 'transition cutting-edge web services'}},\n",
       " {'id': 5,\n",
       "  'name': 'Chelsey Dietrich',\n",
       "  'username': 'Kamren',\n",
       "  'email': 'Lucio_Hettinger@annie.ca',\n",
       "  'address': {'street': 'Skiles Walks',\n",
       "   'suite': 'Suite 351',\n",
       "   'city': 'Roscoeview',\n",
       "   'zipcode': '33263',\n",
       "   'geo': {'lat': '-31.8129', 'lng': '62.5342'}},\n",
       "  'phone': '(254)954-1289',\n",
       "  'website': 'demarco.info',\n",
       "  'company': {'name': 'Keebler LLC',\n",
       "   'catchPhrase': 'User-centric fault-tolerant solution',\n",
       "   'bs': 'revolutionize end-to-end systems'}},\n",
       " {'id': 6,\n",
       "  'name': 'Mrs. Dennis Schulist',\n",
       "  'username': 'Leopoldo_Corkery',\n",
       "  'email': 'Karley_Dach@jasper.info',\n",
       "  'address': {'street': 'Norberto Crossing',\n",
       "   'suite': 'Apt. 950',\n",
       "   'city': 'South Christy',\n",
       "   'zipcode': '23505-1337',\n",
       "   'geo': {'lat': '-71.4197', 'lng': '71.7478'}},\n",
       "  'phone': '1-477-935-8478 x6430',\n",
       "  'website': 'ola.org',\n",
       "  'company': {'name': 'Considine-Lockman',\n",
       "   'catchPhrase': 'Synchronised bottom-line interface',\n",
       "   'bs': 'e-enable innovative applications'}},\n",
       " {'id': 7,\n",
       "  'name': 'Kurtis Weissnat',\n",
       "  'username': 'Elwyn.Skiles',\n",
       "  'email': 'Telly.Hoeger@billy.biz',\n",
       "  'address': {'street': 'Rex Trail',\n",
       "   'suite': 'Suite 280',\n",
       "   'city': 'Howemouth',\n",
       "   'zipcode': '58804-1099',\n",
       "   'geo': {'lat': '24.8918', 'lng': '21.8984'}},\n",
       "  'phone': '210.067.6132',\n",
       "  'website': 'elvis.io',\n",
       "  'company': {'name': 'Johns Group',\n",
       "   'catchPhrase': 'Configurable multimedia task-force',\n",
       "   'bs': 'generate enterprise e-tailers'}},\n",
       " {'id': 8,\n",
       "  'name': 'Nicholas Runolfsdottir V',\n",
       "  'username': 'Maxime_Nienow',\n",
       "  'email': 'Sherwood@rosamond.me',\n",
       "  'address': {'street': 'Ellsworth Summit',\n",
       "   'suite': 'Suite 729',\n",
       "   'city': 'Aliyaview',\n",
       "   'zipcode': '45169',\n",
       "   'geo': {'lat': '-14.3990', 'lng': '-120.7677'}},\n",
       "  'phone': '586.493.6943 x140',\n",
       "  'website': 'jacynthe.com',\n",
       "  'company': {'name': 'Abernathy Group',\n",
       "   'catchPhrase': 'Implemented secondary concept',\n",
       "   'bs': 'e-enable extensible e-tailers'}},\n",
       " {'id': 9,\n",
       "  'name': 'Glenna Reichert',\n",
       "  'username': 'Delphine',\n",
       "  'email': 'Chaim_McDermott@dana.io',\n",
       "  'address': {'street': 'Dayna Park',\n",
       "   'suite': 'Suite 449',\n",
       "   'city': 'Bartholomebury',\n",
       "   'zipcode': '76495-3109',\n",
       "   'geo': {'lat': '24.6463', 'lng': '-168.8889'}},\n",
       "  'phone': '(775)976-6794 x41206',\n",
       "  'website': 'conrad.com',\n",
       "  'company': {'name': 'Yost and Sons',\n",
       "   'catchPhrase': 'Switchable contextually-based project',\n",
       "   'bs': 'aggregate real-time technologies'}},\n",
       " {'id': 10,\n",
       "  'name': 'Clementina DuBuque',\n",
       "  'username': 'Moriah.Stanton',\n",
       "  'email': 'Rey.Padberg@karina.biz',\n",
       "  'address': {'street': 'Kattie Turnpike',\n",
       "   'suite': 'Suite 198',\n",
       "   'city': 'Lebsackbury',\n",
       "   'zipcode': '31428-2261',\n",
       "   'geo': {'lat': '-38.2386', 'lng': '57.2232'}},\n",
       "  'phone': '024-648-3804',\n",
       "  'website': 'ambrose.net',\n",
       "  'company': {'name': 'Hoeger LLC',\n",
       "   'catchPhrase': 'Centralized empowering task-force',\n",
       "   'bs': 'target end-to-end models'}}]"
      ]
     },
     "execution_count": 46,
     "metadata": {},
     "output_type": "execute_result"
    }
   ],
   "source": [
    "data = json.loads(r.content)\n",
    "data"
   ]
  },
  {
   "cell_type": "code",
   "execution_count": 47,
   "id": "64d4f477-f95e-4e5c-9e4e-c544bd51532b",
   "metadata": {},
   "outputs": [
    {
     "data": {
      "text/plain": [
       "{'id': 1,\n",
       " 'name': 'Leanne Graham',\n",
       " 'username': 'Bret',\n",
       " 'email': 'Sincere@april.biz',\n",
       " 'address': {'street': 'Kulas Light',\n",
       "  'suite': 'Apt. 556',\n",
       "  'city': 'Gwenborough',\n",
       "  'zipcode': '92998-3874',\n",
       "  'geo': {'lat': '-37.3159', 'lng': '81.1496'}},\n",
       " 'phone': '1-770-736-8031 x56442',\n",
       " 'website': 'hildegard.org',\n",
       " 'company': {'name': 'Romaguera-Crona',\n",
       "  'catchPhrase': 'Multi-layered client-server neural-net',\n",
       "  'bs': 'harness real-time e-markets'}}"
      ]
     },
     "execution_count": 47,
     "metadata": {},
     "output_type": "execute_result"
    }
   ],
   "source": [
    "data[0]"
   ]
  },
  {
   "cell_type": "code",
   "execution_count": 49,
   "id": "f475b8b0-d0ad-41ed-985e-b165a49604b0",
   "metadata": {},
   "outputs": [
    {
     "name": "stdout",
     "output_type": "stream",
     "text": [
      "Leanne Graham 1-770-736-8031 x56442 92998-3874\n",
      "Ervin Howell 010-692-6593 x09125 90566-7771\n",
      "Clementine Bauch 1-463-123-4447 59590-4157\n",
      "Patricia Lebsack 493-170-9623 x156 53919-4257\n",
      "Chelsey Dietrich (254)954-1289 33263\n",
      "Mrs. Dennis Schulist 1-477-935-8478 x6430 23505-1337\n",
      "Kurtis Weissnat 210.067.6132 58804-1099\n",
      "Nicholas Runolfsdottir V 586.493.6943 x140 45169\n",
      "Glenna Reichert (775)976-6794 x41206 76495-3109\n",
      "Clementina DuBuque 024-648-3804 31428-2261\n"
     ]
    }
   ],
   "source": [
    "for user in data:\n",
    "    print(user['name'], user['phone'], user['address']['zipcode'])"
   ]
  },
  {
   "cell_type": "code",
   "execution_count": null,
   "id": "97c55e7b-ff14-4036-8cb7-88e512757c32",
   "metadata": {},
   "outputs": [],
   "source": []
  },
  {
   "cell_type": "code",
   "execution_count": 50,
   "id": "9de5e5a4-53d7-457b-b452-66426816697d",
   "metadata": {},
   "outputs": [
    {
     "data": {
      "text/plain": [
       "<Response [200]>"
      ]
     },
     "execution_count": 50,
     "metadata": {},
     "output_type": "execute_result"
    }
   ],
   "source": [
    "r = requests.get(baseurl + '/users/1')\n",
    "r"
   ]
  },
  {
   "cell_type": "code",
   "execution_count": 52,
   "id": "eff511be-9de3-45c6-bb0f-913f8c992ec9",
   "metadata": {},
   "outputs": [
    {
     "data": {
      "text/plain": [
       "{'id': 1,\n",
       " 'name': 'Leanne Graham',\n",
       " 'username': 'Bret',\n",
       " 'email': 'Sincere@april.biz',\n",
       " 'address': {'street': 'Kulas Light',\n",
       "  'suite': 'Apt. 556',\n",
       "  'city': 'Gwenborough',\n",
       "  'zipcode': '92998-3874',\n",
       "  'geo': {'lat': '-37.3159', 'lng': '81.1496'}},\n",
       " 'phone': '1-770-736-8031 x56442',\n",
       " 'website': 'hildegard.org',\n",
       " 'company': {'name': 'Romaguera-Crona',\n",
       "  'catchPhrase': 'Multi-layered client-server neural-net',\n",
       "  'bs': 'harness real-time e-markets'}}"
      ]
     },
     "execution_count": 52,
     "metadata": {},
     "output_type": "execute_result"
    }
   ],
   "source": [
    "user = r.json()\n",
    "user"
   ]
  },
  {
   "cell_type": "code",
   "execution_count": 53,
   "id": "87a4d07b-09ff-4f6b-834a-ee98e25af7b9",
   "metadata": {},
   "outputs": [],
   "source": [
    "resource = '/users'"
   ]
  },
  {
   "cell_type": "code",
   "execution_count": 54,
   "id": "a5705bb4-af8f-427f-84cc-31e681447c67",
   "metadata": {},
   "outputs": [],
   "source": [
    "user['id'] = 101"
   ]
  },
  {
   "cell_type": "code",
   "execution_count": 55,
   "id": "a2692de3-e748-4091-a1f2-d7bbb1dfe2d9",
   "metadata": {},
   "outputs": [
    {
     "data": {
      "text/plain": [
       "<Response [201]>"
      ]
     },
     "execution_count": 55,
     "metadata": {},
     "output_type": "execute_result"
    }
   ],
   "source": [
    "r = requests.post(baseurl + resource, data=user)\n",
    "r"
   ]
  },
  {
   "cell_type": "code",
   "execution_count": 56,
   "id": "f5fca032-565f-4b86-8ddc-f85e57a3a9e0",
   "metadata": {},
   "outputs": [
    {
     "data": {
      "text/plain": [
       "{'id': 11,\n",
       " 'name': 'Leanne Graham',\n",
       " 'username': 'Bret',\n",
       " 'email': 'Sincere@april.biz',\n",
       " 'address': ['street', 'suite', 'city', 'zipcode', 'geo'],\n",
       " 'phone': '1-770-736-8031 x56442',\n",
       " 'website': 'hildegard.org',\n",
       " 'company': ['name', 'catchPhrase', 'bs']}"
      ]
     },
     "execution_count": 56,
     "metadata": {},
     "output_type": "execute_result"
    }
   ],
   "source": [
    "r.json()"
   ]
  },
  {
   "cell_type": "code",
   "execution_count": 60,
   "id": "e121fd0d-601b-41e5-99e4-f69637fa3de2",
   "metadata": {},
   "outputs": [
    {
     "data": {
      "text/plain": [
       "<Response [200]>"
      ]
     },
     "execution_count": 60,
     "metadata": {},
     "output_type": "execute_result"
    }
   ],
   "source": [
    "# delete user 10\n",
    "resource = 'users'\n",
    "userid = 10\n",
    "# r = requests.delete(baseurl + resource + '/' + str(userid))\n",
    "\n",
    "r = requests.delete(f'{baseurl}/{resource}/{userid}')\n",
    "r"
   ]
  },
  {
   "cell_type": "code",
   "execution_count": 61,
   "id": "86a68de1-9a00-49fe-962b-0f21a03cc7db",
   "metadata": {},
   "outputs": [
    {
     "data": {
      "text/plain": [
       "{}"
      ]
     },
     "execution_count": 61,
     "metadata": {},
     "output_type": "execute_result"
    }
   ],
   "source": [
    "r.json()"
   ]
  },
  {
   "cell_type": "code",
   "execution_count": 62,
   "id": "a41ad96c-50bc-414a-9182-e56ac0f79bba",
   "metadata": {},
   "outputs": [],
   "source": [
    "import django"
   ]
  },
  {
   "cell_type": "code",
   "execution_count": 2,
   "id": "9be85105-9bfd-40e6-a127-902e03e45b65",
   "metadata": {},
   "outputs": [
    {
     "data": {
      "text/plain": [
       "<Response [200]>"
      ]
     },
     "execution_count": 2,
     "metadata": {},
     "output_type": "execute_result"
    }
   ],
   "source": [
    "r = requests.get('http://127.0.0.1:8000/customers/?name=lkadf&acnum=1234')\n",
    "r"
   ]
  },
  {
   "cell_type": "code",
   "execution_count": 3,
   "id": "42a9360a-cb1f-4f1d-9872-7e53834e3fb2",
   "metadata": {},
   "outputs": [
    {
     "data": {
      "text/plain": [
       "'application/json'"
      ]
     },
     "execution_count": 3,
     "metadata": {},
     "output_type": "execute_result"
    }
   ],
   "source": [
    "r.headers['Content-Type']"
   ]
  },
  {
   "cell_type": "code",
   "execution_count": 4,
   "id": "efe6fafc-da16-4d9a-ac9b-3ba63c2984ff",
   "metadata": {},
   "outputs": [
    {
     "data": {
      "text/plain": [
       "[{'name': 'abcd', 'acnum': 1234, 'balance': 11.22},\n",
       " {'name': 'pqrs', 'acnum': 1111, 'balance': 222.33},\n",
       " {'name': 'wxyz', 'acnum': 3333, 'balance': 4444.55}]"
      ]
     },
     "execution_count": 4,
     "metadata": {},
     "output_type": "execute_result"
    }
   ],
   "source": [
    "r.json()"
   ]
  },
  {
   "cell_type": "code",
   "execution_count": 7,
   "id": "ef761c02-2b5c-4416-a037-dc0ae89af463",
   "metadata": {},
   "outputs": [],
   "source": [
    "r = requests.post('http://127.0.0.1:8000/customers/', data={'name': 'ABCD', 'acnum': 1212, 'balance': 2211.11})"
   ]
  },
  {
   "cell_type": "code",
   "execution_count": 10,
   "id": "b7f87f42-aaa4-493a-b9e8-bf7f6d86f3c6",
   "metadata": {},
   "outputs": [
    {
     "data": {
      "text/plain": [
       "'text/html; charset=utf-8'"
      ]
     },
     "execution_count": 10,
     "metadata": {},
     "output_type": "execute_result"
    }
   ],
   "source": [
    "r.headers['Content-Type']"
   ]
  },
  {
   "cell_type": "code",
   "execution_count": 11,
   "id": "355cacc2-3f5a-49af-950e-5bb10ab6501f",
   "metadata": {},
   "outputs": [
    {
     "data": {
      "text/plain": [
       "b''"
      ]
     },
     "execution_count": 11,
     "metadata": {},
     "output_type": "execute_result"
    }
   ],
   "source": [
    "r.content"
   ]
  },
  {
   "cell_type": "code",
   "execution_count": 8,
   "id": "380eac11-c87c-4477-ac1c-e089a50ff955",
   "metadata": {},
   "outputs": [
    {
     "ename": "JSONDecodeError",
     "evalue": "Expecting value: line 1 column 1 (char 0)",
     "output_type": "error",
     "traceback": [
      "\u001b[0;31m---------------------------------------------------------------------------\u001b[0m",
      "\u001b[0;31mJSONDecodeError\u001b[0m                           Traceback (most recent call last)",
      "File \u001b[0;32m/opt/anaconda3/lib/python3.11/site-packages/requests/models.py:974\u001b[0m, in \u001b[0;36mResponse.json\u001b[0;34m(self, **kwargs)\u001b[0m\n\u001b[1;32m    973\u001b[0m \u001b[38;5;28;01mtry\u001b[39;00m:\n\u001b[0;32m--> 974\u001b[0m     \u001b[38;5;28;01mreturn\u001b[39;00m complexjson\u001b[38;5;241m.\u001b[39mloads(\u001b[38;5;28mself\u001b[39m\u001b[38;5;241m.\u001b[39mtext, \u001b[38;5;241m*\u001b[39m\u001b[38;5;241m*\u001b[39mkwargs)\n\u001b[1;32m    975\u001b[0m \u001b[38;5;28;01mexcept\u001b[39;00m JSONDecodeError \u001b[38;5;28;01mas\u001b[39;00m e:\n\u001b[1;32m    976\u001b[0m     \u001b[38;5;66;03m# Catch JSON-related errors and raise as requests.JSONDecodeError\u001b[39;00m\n\u001b[1;32m    977\u001b[0m     \u001b[38;5;66;03m# This aliases json.JSONDecodeError and simplejson.JSONDecodeError\u001b[39;00m\n",
      "File \u001b[0;32m/opt/anaconda3/lib/python3.11/json/__init__.py:346\u001b[0m, in \u001b[0;36mloads\u001b[0;34m(s, cls, object_hook, parse_float, parse_int, parse_constant, object_pairs_hook, **kw)\u001b[0m\n\u001b[1;32m    343\u001b[0m \u001b[38;5;28;01mif\u001b[39;00m (\u001b[38;5;28mcls\u001b[39m \u001b[38;5;129;01mis\u001b[39;00m \u001b[38;5;28;01mNone\u001b[39;00m \u001b[38;5;129;01mand\u001b[39;00m object_hook \u001b[38;5;129;01mis\u001b[39;00m \u001b[38;5;28;01mNone\u001b[39;00m \u001b[38;5;129;01mand\u001b[39;00m\n\u001b[1;32m    344\u001b[0m         parse_int \u001b[38;5;129;01mis\u001b[39;00m \u001b[38;5;28;01mNone\u001b[39;00m \u001b[38;5;129;01mand\u001b[39;00m parse_float \u001b[38;5;129;01mis\u001b[39;00m \u001b[38;5;28;01mNone\u001b[39;00m \u001b[38;5;129;01mand\u001b[39;00m\n\u001b[1;32m    345\u001b[0m         parse_constant \u001b[38;5;129;01mis\u001b[39;00m \u001b[38;5;28;01mNone\u001b[39;00m \u001b[38;5;129;01mand\u001b[39;00m object_pairs_hook \u001b[38;5;129;01mis\u001b[39;00m \u001b[38;5;28;01mNone\u001b[39;00m \u001b[38;5;129;01mand\u001b[39;00m \u001b[38;5;129;01mnot\u001b[39;00m kw):\n\u001b[0;32m--> 346\u001b[0m     \u001b[38;5;28;01mreturn\u001b[39;00m _default_decoder\u001b[38;5;241m.\u001b[39mdecode(s)\n\u001b[1;32m    347\u001b[0m \u001b[38;5;28;01mif\u001b[39;00m \u001b[38;5;28mcls\u001b[39m \u001b[38;5;129;01mis\u001b[39;00m \u001b[38;5;28;01mNone\u001b[39;00m:\n",
      "File \u001b[0;32m/opt/anaconda3/lib/python3.11/json/decoder.py:337\u001b[0m, in \u001b[0;36mJSONDecoder.decode\u001b[0;34m(self, s, _w)\u001b[0m\n\u001b[1;32m    333\u001b[0m \u001b[38;5;250m\u001b[39m\u001b[38;5;124;03m\"\"\"Return the Python representation of ``s`` (a ``str`` instance\u001b[39;00m\n\u001b[1;32m    334\u001b[0m \u001b[38;5;124;03mcontaining a JSON document).\u001b[39;00m\n\u001b[1;32m    335\u001b[0m \n\u001b[1;32m    336\u001b[0m \u001b[38;5;124;03m\"\"\"\u001b[39;00m\n\u001b[0;32m--> 337\u001b[0m obj, end \u001b[38;5;241m=\u001b[39m \u001b[38;5;28mself\u001b[39m\u001b[38;5;241m.\u001b[39mraw_decode(s, idx\u001b[38;5;241m=\u001b[39m_w(s, \u001b[38;5;241m0\u001b[39m)\u001b[38;5;241m.\u001b[39mend())\n\u001b[1;32m    338\u001b[0m end \u001b[38;5;241m=\u001b[39m _w(s, end)\u001b[38;5;241m.\u001b[39mend()\n",
      "File \u001b[0;32m/opt/anaconda3/lib/python3.11/json/decoder.py:355\u001b[0m, in \u001b[0;36mJSONDecoder.raw_decode\u001b[0;34m(self, s, idx)\u001b[0m\n\u001b[1;32m    354\u001b[0m \u001b[38;5;28;01mexcept\u001b[39;00m \u001b[38;5;167;01mStopIteration\u001b[39;00m \u001b[38;5;28;01mas\u001b[39;00m err:\n\u001b[0;32m--> 355\u001b[0m     \u001b[38;5;28;01mraise\u001b[39;00m JSONDecodeError(\u001b[38;5;124m\"\u001b[39m\u001b[38;5;124mExpecting value\u001b[39m\u001b[38;5;124m\"\u001b[39m, s, err\u001b[38;5;241m.\u001b[39mvalue) \u001b[38;5;28;01mfrom\u001b[39;00m \u001b[38;5;28;01mNone\u001b[39;00m\n\u001b[1;32m    356\u001b[0m \u001b[38;5;28;01mreturn\u001b[39;00m obj, end\n",
      "\u001b[0;31mJSONDecodeError\u001b[0m: Expecting value: line 1 column 1 (char 0)",
      "\nDuring handling of the above exception, another exception occurred:\n",
      "\u001b[0;31mJSONDecodeError\u001b[0m                           Traceback (most recent call last)",
      "Cell \u001b[0;32mIn[8], line 1\u001b[0m\n\u001b[0;32m----> 1\u001b[0m r\u001b[38;5;241m.\u001b[39mjson()\n",
      "File \u001b[0;32m/opt/anaconda3/lib/python3.11/site-packages/requests/models.py:978\u001b[0m, in \u001b[0;36mResponse.json\u001b[0;34m(self, **kwargs)\u001b[0m\n\u001b[1;32m    974\u001b[0m     \u001b[38;5;28;01mreturn\u001b[39;00m complexjson\u001b[38;5;241m.\u001b[39mloads(\u001b[38;5;28mself\u001b[39m\u001b[38;5;241m.\u001b[39mtext, \u001b[38;5;241m*\u001b[39m\u001b[38;5;241m*\u001b[39mkwargs)\n\u001b[1;32m    975\u001b[0m \u001b[38;5;28;01mexcept\u001b[39;00m JSONDecodeError \u001b[38;5;28;01mas\u001b[39;00m e:\n\u001b[1;32m    976\u001b[0m     \u001b[38;5;66;03m# Catch JSON-related errors and raise as requests.JSONDecodeError\u001b[39;00m\n\u001b[1;32m    977\u001b[0m     \u001b[38;5;66;03m# This aliases json.JSONDecodeError and simplejson.JSONDecodeError\u001b[39;00m\n\u001b[0;32m--> 978\u001b[0m     \u001b[38;5;28;01mraise\u001b[39;00m RequestsJSONDecodeError(e\u001b[38;5;241m.\u001b[39mmsg, e\u001b[38;5;241m.\u001b[39mdoc, e\u001b[38;5;241m.\u001b[39mpos)\n",
      "\u001b[0;31mJSONDecodeError\u001b[0m: Expecting value: line 1 column 1 (char 0)"
     ]
    }
   ],
   "source": [
    "r.json()"
   ]
  },
  {
   "cell_type": "code",
   "execution_count": null,
   "id": "153102cf-0770-4436-93a6-6b824b37ea8c",
   "metadata": {},
   "outputs": [],
   "source": []
  },
  {
   "cell_type": "code",
   "execution_count": null,
   "id": "c8fa0a0e-e990-4e46-bb6a-ef1e2ba88612",
   "metadata": {},
   "outputs": [],
   "source": []
  },
  {
   "cell_type": "code",
   "execution_count": null,
   "id": "c46e46e4-ab1b-4cc7-b0a2-7d09a36b1301",
   "metadata": {},
   "outputs": [],
   "source": []
  }
 ],
 "metadata": {
  "kernelspec": {
   "display_name": "Python 3 (ipykernel)",
   "language": "python",
   "name": "python3"
  },
  "language_info": {
   "codemirror_mode": {
    "name": "ipython",
    "version": 3
   },
   "file_extension": ".py",
   "mimetype": "text/x-python",
   "name": "python",
   "nbconvert_exporter": "python",
   "pygments_lexer": "ipython3",
   "version": "3.11.0"
  }
 },
 "nbformat": 4,
 "nbformat_minor": 5
}
