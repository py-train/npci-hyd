{
 "cells": [
  {
   "cell_type": "markdown",
   "id": "090e9477-cc29-4a3d-8732-2f5fabb4562b",
   "metadata": {},
   "source": [
    "## Django: Models"
   ]
  },
  {
   "cell_type": "code",
   "execution_count": null,
   "id": "b6d5d002-f351-4d1d-bc6a-ae52ba891f0a",
   "metadata": {},
   "outputs": [],
   "source": [
    "class Person:\n",
    "    def __init__(self):\n",
    "        self.first_name = ''\n",
    "        self.last_name = ''"
   ]
  },
  {
   "cell_type": "code",
   "execution_count": null,
   "id": "59926234-7c35-45dd-9aac-035f73ef4579",
   "metadata": {},
   "outputs": [],
   "source": [
    "class Person(models.Model):\n",
    "    first_name\n",
    "    last_name"
   ]
  }
 ],
 "metadata": {
  "kernelspec": {
   "display_name": "Python 3 (ipykernel)",
   "language": "python",
   "name": "python3"
  },
  "language_info": {
   "codemirror_mode": {
    "name": "ipython",
    "version": 3
   },
   "file_extension": ".py",
   "mimetype": "text/x-python",
   "name": "python",
   "nbconvert_exporter": "python",
   "pygments_lexer": "ipython3",
   "version": "3.11.0"
  }
 },
 "nbformat": 4,
 "nbformat_minor": 5
}
