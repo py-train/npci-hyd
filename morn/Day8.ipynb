{
 "cells": [
  {
   "cell_type": "markdown",
   "id": "20da3f9e-af05-40bf-ac27-034573c793c8",
   "metadata": {},
   "source": [
    "### Class instance string representation"
   ]
  },
  {
   "cell_type": "code",
   "execution_count": 8,
   "id": "ac611562-0efb-4a67-9fc6-5a5de007a349",
   "metadata": {},
   "outputs": [],
   "source": [
    "class Customer:\n",
    "    def __init__(self, name, acnum, balance):\n",
    "        self.name = name\n",
    "        self.balance = balance\n",
    "        self.acnum = acnum\n",
    "\n",
    "    def __repr__(self):\n",
    "        # return 'Customer(' + self.name + ')'\n",
    "        return f'Customer({self.name})'"
   ]
  },
  {
   "cell_type": "code",
   "execution_count": 9,
   "id": "f2edf756-5ef6-4fbf-8199-0e246d2e6d8f",
   "metadata": {},
   "outputs": [],
   "source": [
    "cust1 = Customer('Amit', 1234, 1122.33)"
   ]
  },
  {
   "cell_type": "code",
   "execution_count": 10,
   "id": "d348956f-b918-4e5e-9339-616bb09ff7c2",
   "metadata": {},
   "outputs": [
    {
     "data": {
      "text/plain": [
       "Customer(Amit)"
      ]
     },
     "execution_count": 10,
     "metadata": {},
     "output_type": "execute_result"
    }
   ],
   "source": [
    "cust1"
   ]
  },
  {
   "cell_type": "code",
   "execution_count": 7,
   "id": "fb92eb4c-b096-473b-ab4f-aae3a949b0f2",
   "metadata": {},
   "outputs": [
    {
     "name": "stdout",
     "output_type": "stream",
     "text": [
      "Customer(Amit)\n"
     ]
    }
   ],
   "source": [
    "print(cust1)"
   ]
  },
  {
   "cell_type": "code",
   "execution_count": null,
   "id": "e4e56a9c-2886-433c-adce-a8a0eb9b38e1",
   "metadata": {},
   "outputs": [],
   "source": []
  }
 ],
 "metadata": {
  "kernelspec": {
   "display_name": "Python 3 (ipykernel)",
   "language": "python",
   "name": "python3"
  },
  "language_info": {
   "codemirror_mode": {
    "name": "ipython",
    "version": 3
   },
   "file_extension": ".py",
   "mimetype": "text/x-python",
   "name": "python",
   "nbconvert_exporter": "python",
   "pygments_lexer": "ipython3",
   "version": "3.11.0"
  }
 },
 "nbformat": 4,
 "nbformat_minor": 5
}
